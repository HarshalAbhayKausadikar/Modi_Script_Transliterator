{
 "cells": [
  {
   "cell_type": "code",
   "execution_count": 1,
   "id": "91bb1f7d",
   "metadata": {},
   "outputs": [],
   "source": [
    "import os\n",
    "import pickle\n",
    "import numpy as np\n",
    "from tqdm.notebook import tqdm\n",
    "\n",
    "from tensorflow.keras.applications.vgg16 import VGG16, preprocess_input\n",
    "from tensorflow.keras.preprocessing.image import load_img, img_to_array\n",
    "from tensorflow.keras.preprocessing.text import Tokenizer\n",
    "from tensorflow.keras.preprocessing.sequence import pad_sequences\n",
    "from tensorflow.keras.models import Model\n",
    "from tensorflow.keras.utils import to_categorical, plot_model\n",
    "from tensorflow.keras.layers import Input, Dense, Bidirectional, LSTM, Embedding, Dropout, add"
   ]
  },
  {
   "cell_type": "code",
   "execution_count": 2,
   "id": "33ec9a11",
   "metadata": {},
   "outputs": [],
   "source": [
    "BASE_DIR = r\"D:\\COEP\\BTech_Project\\Dataset\\2043_combined\"\n",
    "WORKING_DIR = r\"D:\\COEP\\BTech_Project\\Code\\new_dataset_code\\VGG_RNN\""
   ]
  },
  {
   "cell_type": "code",
   "execution_count": 3,
   "id": "30a33ed0",
   "metadata": {},
   "outputs": [
    {
     "name": "stdout",
     "output_type": "stream",
     "text": [
      "Model: \"model\"\n",
      "_________________________________________________________________\n",
      " Layer (type)                Output Shape              Param #   \n",
      "=================================================================\n",
      " input_1 (InputLayer)        [(None, 224, 224, 3)]     0         \n",
      "                                                                 \n",
      " block1_conv1 (Conv2D)       (None, 224, 224, 64)      1792      \n",
      "                                                                 \n",
      " block1_conv2 (Conv2D)       (None, 224, 224, 64)      36928     \n",
      "                                                                 \n",
      " block1_pool (MaxPooling2D)  (None, 112, 112, 64)      0         \n",
      "                                                                 \n",
      " block2_conv1 (Conv2D)       (None, 112, 112, 128)     73856     \n",
      "                                                                 \n",
      " block2_conv2 (Conv2D)       (None, 112, 112, 128)     147584    \n",
      "                                                                 \n",
      " block2_pool (MaxPooling2D)  (None, 56, 56, 128)       0         \n",
      "                                                                 \n",
      " block3_conv1 (Conv2D)       (None, 56, 56, 256)       295168    \n",
      "                                                                 \n",
      " block3_conv2 (Conv2D)       (None, 56, 56, 256)       590080    \n",
      "                                                                 \n",
      " block3_conv3 (Conv2D)       (None, 56, 56, 256)       590080    \n",
      "                                                                 \n",
      " block3_pool (MaxPooling2D)  (None, 28, 28, 256)       0         \n",
      "                                                                 \n",
      " block4_conv1 (Conv2D)       (None, 28, 28, 512)       1180160   \n",
      "                                                                 \n",
      " block4_conv2 (Conv2D)       (None, 28, 28, 512)       2359808   \n",
      "                                                                 \n",
      " block4_conv3 (Conv2D)       (None, 28, 28, 512)       2359808   \n",
      "                                                                 \n",
      " block4_pool (MaxPooling2D)  (None, 14, 14, 512)       0         \n",
      "                                                                 \n",
      " block5_conv1 (Conv2D)       (None, 14, 14, 512)       2359808   \n",
      "                                                                 \n",
      " block5_conv2 (Conv2D)       (None, 14, 14, 512)       2359808   \n",
      "                                                                 \n",
      " block5_conv3 (Conv2D)       (None, 14, 14, 512)       2359808   \n",
      "                                                                 \n",
      " block5_pool (MaxPooling2D)  (None, 7, 7, 512)         0         \n",
      "                                                                 \n",
      " flatten (Flatten)           (None, 25088)             0         \n",
      "                                                                 \n",
      " fc1 (Dense)                 (None, 4096)              102764544 \n",
      "                                                                 \n",
      " fc2 (Dense)                 (None, 4096)              16781312  \n",
      "                                                                 \n",
      "=================================================================\n",
      "Total params: 134,260,544\n",
      "Trainable params: 134,260,544\n",
      "Non-trainable params: 0\n",
      "_________________________________________________________________\n",
      "None\n"
     ]
    }
   ],
   "source": [
    "# load vgg16 model\n",
    "model = VGG16()\n",
    "# restructure the model\n",
    "model = Model(inputs=model.inputs, outputs=model.layers[-2].output)\n",
    "# summarize\n",
    "print(model.summary())"
   ]
  },
  {
   "cell_type": "code",
   "execution_count": 4,
   "id": "15f8a6d2",
   "metadata": {},
   "outputs": [
    {
     "data": {
      "application/vnd.jupyter.widget-view+json": {
       "model_id": "790766e2f7d04e99912e1ae3a9bc22a2",
       "version_major": 2,
       "version_minor": 0
      },
      "text/plain": [
       "  0%|          | 0/2043 [00:00<?, ?it/s]"
      ]
     },
     "metadata": {},
     "output_type": "display_data"
    }
   ],
   "source": [
    "# extract features from image\n",
    "features = {}\n",
    "directory = os.path.join(BASE_DIR, 'images')\n",
    "\n",
    "for img_name in tqdm(os.listdir(directory)):\n",
    "    # load the image from file\n",
    "    img_path = directory + '/' + img_name\n",
    "    image = load_img(img_path, target_size=(224, 224))\n",
    "    # convert image pixels to numpy array\n",
    "    image = img_to_array(image)\n",
    "    # reshape data for model\n",
    "    image = image.reshape((1, image.shape[0], image.shape[1], image.shape[2]))\n",
    "    # preprocess image for vgg\n",
    "    image = preprocess_input(image)\n",
    "    # extract features\n",
    "    feature = model.predict(image, verbose=0)\n",
    "    # get image ID\n",
    "    image_id = img_name.split('.')[0]\n",
    "    # store feature\n",
    "    features[image_id] = feature"
   ]
  },
  {
   "cell_type": "code",
   "execution_count": 5,
   "id": "0b459e56",
   "metadata": {},
   "outputs": [],
   "source": [
    "# store features in pickle\n",
    "pickle.dump(features, open(os.path.join(WORKING_DIR, 'features.pkl'), 'wb'))"
   ]
  },
  {
   "cell_type": "code",
   "execution_count": 6,
   "id": "0256c544",
   "metadata": {},
   "outputs": [],
   "source": [
    "# load features from pickle\n",
    "with open(os.path.join(WORKING_DIR, 'features.pkl'), 'rb') as f:\n",
    "    features = pickle.load(f)"
   ]
  },
  {
   "cell_type": "markdown",
   "id": "86d644e5",
   "metadata": {},
   "source": [
    "# Creating mapping for images and captions"
   ]
  },
  {
   "cell_type": "code",
   "execution_count": 7,
   "id": "942fb713",
   "metadata": {},
   "outputs": [],
   "source": [
    "import os \n",
    "\n",
    "# load doc into memory\n",
    "def read_text_file(filename):\n",
    "#     text = f.read()\n",
    "    # open the file as read only\n",
    "    file = open(filename, 'r', encoding=\"utf8\")\n",
    "#     Lines = file.readlines()\n",
    "    text = file.read()\n",
    " \n",
    "    # Strips the newline character\n",
    "#     for line in Lines:\n",
    "#         text = text + line.strip()\n",
    "    # close the file\n",
    "    file.close()\n",
    "    text = 'startseq ' + text + ' endseq'\n",
    "    return text\n",
    "\n",
    "# Folder Path \n",
    "path = r\"D:\\COEP\\BTech_Project\\Dataset\\2043_combined\\text\"\n",
    "  \n",
    "# Change the directory \n",
    "os.chdir(path) \n",
    "  \n",
    "#Create dictionary mapping\n",
    "mapping = {}\n",
    "  \n",
    "  # iterate through all file \n",
    "for file in os.listdir(): \n",
    "    # Check whether file is in text format or not \n",
    "    if file.endswith(\".txt\"): \n",
    "        file_path = f\"{path}\\{file}\"\n",
    "        baseFileName = os.path.splitext(file)[0]\n",
    "        \n",
    "        # call read text file function \n",
    "        caption = read_text_file(file_path)\n",
    "        mapping[baseFileName] = caption\n",
    "#         print(caption)"
   ]
  },
  {
   "cell_type": "code",
   "execution_count": 8,
   "id": "126070fc",
   "metadata": {},
   "outputs": [],
   "source": [
    "all_captions = []\n",
    "maxi = '1'\n",
    "for key in mapping:\n",
    "    if(len(mapping[maxi].split()) < len(mapping[key].split())):\n",
    "        maxi = key\n",
    "#         print(maxi)\n",
    "#     print(result)\n",
    "    all_captions.append(mapping[key])"
   ]
  },
  {
   "cell_type": "code",
   "execution_count": 9,
   "id": "b52cb792",
   "metadata": {},
   "outputs": [
    {
     "data": {
      "text/plain": [
       "'startseq स्वासनिधी राजमान्य राजश्री माधवराव पंडित प्रधान तां मोकदम व रयान मौजे वाठार पाा फलटण सुा इसने सबैन मया व अलफ तु endseq'"
      ]
     },
     "execution_count": 9,
     "metadata": {},
     "output_type": "execute_result"
    }
   ],
   "source": [
    "all_captions[0]"
   ]
  },
  {
   "cell_type": "code",
   "execution_count": 10,
   "id": "dd77bb19",
   "metadata": {},
   "outputs": [
    {
     "name": "stdout",
     "output_type": "stream",
     "text": [
      "12532\n"
     ]
    }
   ],
   "source": [
    "# tokenize the text\n",
    "from tensorflow.keras.preprocessing.text import Tokenizer\n",
    "tokenizer = Tokenizer()\n",
    "tokenizer.fit_on_texts(all_captions)\n",
    "vocab_size = len(tokenizer.word_index) + 1\n",
    "print(vocab_size)"
   ]
  },
  {
   "cell_type": "code",
   "execution_count": 11,
   "id": "4e28f7b3",
   "metadata": {},
   "outputs": [
    {
     "data": {
      "text/plain": [
       "72"
      ]
     },
     "execution_count": 11,
     "metadata": {},
     "output_type": "execute_result"
    }
   ],
   "source": [
    "# get maximum length of the caption available\n",
    "max_length = max(len(caption.split()) for caption in all_captions)\n",
    "max_length"
   ]
  },
  {
   "cell_type": "code",
   "execution_count": 12,
   "id": "262d02b6",
   "metadata": {},
   "outputs": [
    {
     "data": {
      "text/plain": [
       "'startseq जाब आला की बेलभाक घेऊन लेकास पाठवणे अथवा तुम्ही विचार पाहोन जावयाचे तरी जाणे यैसा जाब आला त्यावरी कान्होजी नाा पाचजण लेक बाा घेऊन राजश्री स्वामीच्या दरशनास सीवापटणास गेले भेटी जाली येकांती बैसोन बोलिले endseq'"
      ]
     },
     "execution_count": 12,
     "metadata": {},
     "output_type": "execute_result"
    }
   ],
   "source": [
    "mapping['103']"
   ]
  },
  {
   "cell_type": "code",
   "execution_count": 13,
   "id": "a4757bcc",
   "metadata": {},
   "outputs": [
    {
     "name": "stdout",
     "output_type": "stream",
     "text": [
      "1841\n",
      "202\n"
     ]
    }
   ],
   "source": [
    "image_ids = list(mapping.keys())\n",
    "# np.random.shuffle(image_ids)\n",
    "\n",
    "test = []\n",
    "train = []\n",
    "    \n",
    "path = r\"D:\\COEP\\BTech_Project\\Dataset\\Test_Images\"\n",
    "for file in os.listdir(path=path): \n",
    "    file_path = f\"{path}\\{file}\"\n",
    "    baseFileName = os.path.splitext(file)[0]\n",
    "    test.append(baseFileName)\n",
    "\n",
    "for img in image_ids:\n",
    "    if(img not in test):\n",
    "        train.append(img)\n",
    "# split = int(len(image_ids) * 0.80)\n",
    "# train = image_ids[:split]\n",
    "# test = image_ids[split:]\n",
    "print(len(train))\n",
    "print(len(test))"
   ]
  },
  {
   "cell_type": "code",
   "execution_count": 14,
   "id": "39b167ee",
   "metadata": {},
   "outputs": [],
   "source": [
    "# create data generator to get data in batch (avoids session crash)\n",
    "def data_generator(data_keys, mapping, features, tokenizer, max_length, vocab_size, batch_size):\n",
    "    # loop over images\n",
    "    X1, X2, y = list(), list(), list()\n",
    "    n = 0\n",
    "    while 1:\n",
    "        for key in data_keys:\n",
    "            n += 1\n",
    "            caption = mapping[key]\n",
    "            # process each caption\n",
    "\n",
    "            # encode the sequence\n",
    "            seq = tokenizer.texts_to_sequences([caption])[0]\n",
    "\n",
    "            # split the sequence into X, y pairs\n",
    "            for i in range(1, len(seq)):\n",
    "                # split into input and output pairs\n",
    "                in_seq, out_seq = seq[:i], seq[i]\n",
    "                # pad input sequence\n",
    "                in_seq = pad_sequences([in_seq], maxlen=max_length)[0]\n",
    "                # encode output sequence\n",
    "                out_seq = to_categorical([out_seq], num_classes=vocab_size)[0]\n",
    "                    \n",
    "                # store the sequences\n",
    "                X1.append(features[key][0])\n",
    "                X2.append(in_seq)\n",
    "                y.append(out_seq)\n",
    "            if n == batch_size:\n",
    "                X1, X2, y = np.array(X1), np.array(X2), np.array(y)\n",
    "#                 print(X1.shape, X2.shape, y)\n",
    "                yield [X1, X2], y\n",
    "                X1, X2, y = list(), list(), list()\n",
    "                n = 0"
   ]
  },
  {
   "cell_type": "code",
   "execution_count": 15,
   "id": "ef28afe2",
   "metadata": {},
   "outputs": [],
   "source": [
    "# encoder model\n",
    "# image feature layers\n",
    "import tensorflow as tf\n",
    "inputs1 = Input(shape=(4096,))\n",
    "fe1 = Dropout(0.4)(inputs1)\n",
    "fe2 = Dense(256, activation='relu')(fe1)\n",
    "# sequence feature layers\n",
    "inputs2 = Input(shape=(max_length,))\n",
    "se1 = Embedding(vocab_size, 256, mask_zero=True)(inputs2)\n",
    "se2 = Dropout(0.4)(se1)\n",
    "# se3 = LSTM(256)(se2)\n",
    "se3 = tf.keras.layers.Bidirectional(tf.keras.layers.LSTM(128,dropout=0.4))(se2)\n",
    "# decoder model\n",
    "decoder1 = add([fe2, se3])\n",
    "decoder2 = Dense(256, activation='relu')(decoder1)\n",
    "outputs = Dense(vocab_size, activation='softmax')(decoder2)\n",
    "\n",
    "model = Model(inputs=[inputs1, inputs2], outputs=outputs)\n",
    "model.compile(loss='categorical_crossentropy', optimizer='adam')\n",
    "\n",
    "# plot the model\n",
    "# plot_model(model, show_shapes=True)"
   ]
  },
  {
   "cell_type": "code",
   "execution_count": 16,
   "id": "99cfb2f7",
   "metadata": {
    "scrolled": true
   },
   "outputs": [
    {
     "name": "stdout",
     "output_type": "stream",
     "text": [
      "57/57 [==============================] - 227s 4s/step - loss: 8.6693 - val_loss: 8.5719\n",
      "57/57 [==============================] - 208s 4s/step - loss: 8.1311 - val_loss: 8.5751\n",
      "57/57 [==============================] - 209s 4s/step - loss: 8.0246 - val_loss: 9.2518\n",
      "57/57 [==============================] - 214s 4s/step - loss: 8.0086 - val_loss: 9.2959\n",
      "57/57 [==============================] - 216s 4s/step - loss: 7.9340 - val_loss: 9.5850\n",
      "57/57 [==============================] - 223s 4s/step - loss: 7.7320 - val_loss: 9.4036\n",
      "57/57 [==============================] - 227s 4s/step - loss: 7.6749 - val_loss: 9.2364\n",
      "57/57 [==============================] - 225s 4s/step - loss: 7.6647 - val_loss: 9.4975\n",
      "57/57 [==============================] - 225s 4s/step - loss: 7.5380 - val_loss: 10.3964\n",
      "57/57 [==============================] - 223s 4s/step - loss: 7.4949 - val_loss: 10.1713\n",
      "57/57 [==============================] - 225s 4s/step - loss: 7.2859 - val_loss: 10.2607\n",
      "57/57 [==============================] - 223s 4s/step - loss: 7.0786 - val_loss: 10.2100\n",
      "57/57 [==============================] - 224s 4s/step - loss: 7.0161 - val_loss: 10.4382\n",
      "57/57 [==============================] - 227s 4s/step - loss: 6.7715 - val_loss: 10.8984\n",
      "57/57 [==============================] - 227s 4s/step - loss: 6.6105 - val_loss: 11.3993\n",
      "57/57 [==============================] - 228s 4s/step - loss: 6.4811 - val_loss: 11.8480\n",
      "57/57 [==============================] - 229s 4s/step - loss: 6.4160 - val_loss: 11.2773\n",
      "57/57 [==============================] - 229s 4s/step - loss: 6.2960 - val_loss: 12.0435\n",
      "57/57 [==============================] - 227s 4s/step - loss: 6.1187 - val_loss: 11.8724\n",
      "57/57 [==============================] - 227s 4s/step - loss: 5.8220 - val_loss: 12.1983\n",
      "57/57 [==============================] - 225s 4s/step - loss: 5.6238 - val_loss: 12.9127\n",
      "57/57 [==============================] - 224s 4s/step - loss: 5.4603 - val_loss: 13.1063\n",
      "57/57 [==============================] - 224s 4s/step - loss: 5.3319 - val_loss: 13.6344\n",
      "57/57 [==============================] - 223s 4s/step - loss: 5.1393 - val_loss: 13.7807\n",
      "57/57 [==============================] - 225s 4s/step - loss: 4.9214 - val_loss: 14.3876\n",
      "57/57 [==============================] - 226s 4s/step - loss: 4.7830 - val_loss: 14.7754\n",
      "57/57 [==============================] - 224s 4s/step - loss: 4.6606 - val_loss: 14.8868\n",
      "57/57 [==============================] - 226s 4s/step - loss: 4.6329 - val_loss: 15.1316\n",
      "57/57 [==============================] - 228s 4s/step - loss: 4.6938 - val_loss: 15.5102\n",
      "57/57 [==============================] - 230s 4s/step - loss: 4.5524 - val_loss: 15.4889\n"
     ]
    }
   ],
   "source": [
    "# train the model\n",
    "epochs = 30\n",
    "batch_size = 32\n",
    "steps = len(train)//batch_size\n",
    "test_steps = len(test)//batch_size\n",
    "\n",
    "training_loss = []\n",
    "test_loss = []\n",
    "\n",
    "for i in range(epochs):\n",
    "    # create data generator\n",
    "    train_generator = data_generator(train, mapping, features, tokenizer, max_length, vocab_size, batch_size)\n",
    "    test_generator = data_generator(test, mapping, features, tokenizer, max_length, vocab_size, batch_size)\n",
    "    # fit for one epoch\n",
    "    model.fit(train_generator, validation_data=test_generator, epochs=1, steps_per_epoch=steps, validation_steps=test_steps, verbose=1)\n",
    "    training_loss.append(model.history.history['loss'])\n",
    "    test_loss.append(model.history.history['val_loss'])"
   ]
  },
  {
   "cell_type": "code",
   "execution_count": 17,
   "id": "bfc247bc",
   "metadata": {},
   "outputs": [],
   "source": [
    "# save the model\n",
    "model.save(WORKING_DIR+'/best_model.h5')"
   ]
  },
  {
   "cell_type": "markdown",
   "id": "aab1c44b",
   "metadata": {},
   "source": [
    "### LOAD SAVED MODEL AND FEATURES"
   ]
  },
  {
   "cell_type": "raw",
   "id": "e139d144",
   "metadata": {},
   "source": []
  },
  {
   "cell_type": "code",
   "execution_count": null,
   "id": "7b1f2a09",
   "metadata": {},
   "outputs": [],
   "source": [
    "import tensorflow as tf\n",
    "from tensorflow import keras\n",
    "\n",
    "# load features from pickle\n",
    "features = {}\n",
    "with open(os.path.join(WORKING_DIR, 'features.pkl'), 'rb') as f:\n",
    "    features = pickle.load(f)\n",
    "\n",
    "new_model = tf.keras.models.load_model(r\"D:\\COEP\\BTech_Project\\Code\\VGG_RNN\\best_model.h5\")"
   ]
  },
  {
   "cell_type": "code",
   "execution_count": 21,
   "id": "9ee1f68c",
   "metadata": {},
   "outputs": [],
   "source": [
    "def idx_to_word(integer, tokenizer):\n",
    "    for word, index in tokenizer.word_index.items():\n",
    "        if index == integer:\n",
    "            return word\n",
    "    return None"
   ]
  },
  {
   "cell_type": "code",
   "execution_count": 22,
   "id": "032a16cf",
   "metadata": {},
   "outputs": [],
   "source": [
    "# generate caption for an image\n",
    "def predict_caption(model, image, tokenizer, max_length):\n",
    "    # add start tag for generation process\n",
    "    in_text = 'startseq'\n",
    "    # iterate over the max length of sequence\n",
    "    for i in range(max_length):\n",
    "        # encode input sequence\n",
    "        sequence = tokenizer.texts_to_sequences([in_text])[0]\n",
    "        # pad the sequence\n",
    "        sequence = pad_sequences([sequence], max_length)\n",
    "        # predict next word\n",
    "        yhat = model.predict([image, sequence], verbose=0)\n",
    "        # get index with high probability\n",
    "        yhat = np.argmax(yhat)\n",
    "        # convert index to word\n",
    "        word = idx_to_word(yhat, tokenizer)\n",
    "        # stop if word not found\n",
    "        if word is None:\n",
    "            break\n",
    "        # append word as input for generating next word\n",
    "        in_text += \" \" + word\n",
    "        # stop if we reach end tag\n",
    "        if word == 'endseq':\n",
    "            break\n",
    "      \n",
    "    return in_text"
   ]
  },
  {
   "cell_type": "code",
   "execution_count": 26,
   "id": "3a5214f4",
   "metadata": {},
   "outputs": [],
   "source": [
    "from PIL import Image\n",
    "import matplotlib.pyplot as plt\n",
    "def generate_caption(image_name):\n",
    "    # load the image\n",
    "    # image_name = \"1001773457_577c3a7d70.jpg\"\n",
    "    image_id = image_name.split('.')[0]\n",
    "    img_path = os.path.join(BASE_DIR, \"images\", image_name)\n",
    "    image = Image.open(img_path)\n",
    "    caption = mapping[image_id]\n",
    "    print('---------------------Actual---------------------')\n",
    "    print(caption)\n",
    "    # predict the caption\n",
    "    y_pred = predict_caption(model, features[image_id], tokenizer, max_length)\n",
    "    print('--------------------Predicted--------------------')\n",
    "    print(y_pred)\n",
    "    plt.imshow(image)"
   ]
  },
  {
   "cell_type": "code",
   "execution_count": null,
   "id": "7a88da4a",
   "metadata": {},
   "outputs": [],
   "source": [
    "print(test_loss)"
   ]
  },
  {
   "cell_type": "code",
   "execution_count": 28,
   "id": "5c578bc6",
   "metadata": {},
   "outputs": [
    {
     "name": "stdout",
     "output_type": "stream",
     "text": [
      "---------------------Actual---------------------\n",
      "startseq व्हा तुम्हाकडूनहि तैसेच घडावे सनदी जाबसालास कटकटीचे कारण नाही परंतु त्याची चाल आहें तीच आहे याजकरिता येविसी तुम्ही राजश्री पंतप्रधान यासी बोलून राा आपाजी रघुनाथ व हुजरे endseq\n",
      "--------------------Predicted--------------------\n",
      "startseq श्री परस्थळीं राजश्री मातुश्री नारो मातुश्री नारो पंतप्रधान सीतैन सु सीतैन सु इसने इसने इसने ईसने इसने इसने ईसने इसने इसने ईसने इसने इसने ईसने इसने इसने ईसने इसने ईसने इसने ईसने लिहिणें लिहिणें लिहिणे लिहिणे लिहिणे लिहिणे लिहिणे लिहिणे लिहिणे लिहिणे लिहिणे लिहिणे लिहिणे लिहिणे लिहिणे लिहिणे लिहिणे लिहिणे लिहिणे लिहिणे लिहिणे लिहिणे लिहिणे लिहिणे लिहिणे लिहिणे लिहिणे लिहिणे लिहिणे लिहिणे लिहिणे लिहिणे लिहिणे लिहिणे लिहिणे लिहिणे लिहिणे लिहिणे लिहिणे लिहिणे\n"
     ]
    },
    {
     "data": {
      "image/png": "[encoded data removed]",
      "text/plain": [
       "<Figure size 640x480 with 1 Axes>"
      ]
     },
     "metadata": {},
     "output_type": "display_data"
    }
   ],
   "source": [
    "generate_caption('20.jpg')"
   ]
  },
  {
   "cell_type": "code",
   "execution_count": 19,
   "id": "e1d7c708",
   "metadata": {},
   "outputs": [
    {
     "data": {
      "image/png": "[encoded data removed]",
      "text/plain": [
       "<Figure size 640x480 with 1 Axes>"
      ]
     },
     "metadata": {},
     "output_type": "display_data"
    }
   ],
   "source": [
    "import matplotlib.pyplot as plt\n",
    "%matplotlib inline\n",
    "# Get training and test loss histories\n",
    "# training_loss = history.history['loss']\n",
    "# test_loss = history.history['val_loss']\n",
    "# print(training_loss)\n",
    "# Create count of the number of epochs\n",
    "epoch_count = range(1, len(training_loss) + 1)\n",
    "\n",
    "# Visualize loss history\n",
    "plt.title(\"VGG16 + BiLSTM\")\n",
    "plt.plot(epoch_count, training_loss, 'b')\n",
    "plt.plot(epoch_count, test_loss, 'r')\n",
    "plt.legend(['Training Loss', 'Test Loss'])\n",
    "plt.xlabel('Epoch')\n",
    "plt.ylabel('Loss')\n",
    "plt.savefig(r\"D:\\COEP\\BTech_Project\\Code\\new_dataset_code\\VGG_RNN\\train_val_loss_plot.png\", format=\"png\")\n",
    "plt.show()"
   ]
  },
  {
   "cell_type": "code",
   "execution_count": 24,
   "id": "0364a6bf",
   "metadata": {},
   "outputs": [
    {
     "data": {
      "application/vnd.jupyter.widget-view+json": {
       "model_id": "c19fbcf52f714e0881bf5c4aa2e9ca07",
       "version_major": 2,
       "version_minor": 0
      },
      "text/plain": [
       "  0%|          | 0/202 [00:00<?, ?it/s]"
      ]
     },
     "metadata": {},
     "output_type": "display_data"
    },
    {
     "name": "stdout",
     "output_type": "stream",
     "text": [
      "BLEU-1: 0.007817\n",
      "BLEU-2: 0.000000\n"
     ]
    },
    {
     "name": "stderr",
     "output_type": "stream",
     "text": [
      "C:\\Users\\ASUS\\AppData\\Local\\Programs\\Python\\Python310\\lib\\site-packages\\nltk\\translate\\bleu_score.py:552: UserWarning: \n",
      "The hypothesis contains 0 counts of 2-gram overlaps.\n",
      "Therefore the BLEU score evaluates to 0, independently of\n",
      "how many N-gram overlaps of lower order it contains.\n",
      "Consider using lower n-gram order or use SmoothingFunction()\n",
      "  warnings.warn(_msg)\n",
      "C:\\Users\\ASUS\\AppData\\Local\\Programs\\Python\\Python310\\lib\\site-packages\\nltk\\translate\\bleu_score.py:552: UserWarning: \n",
      "The hypothesis contains 0 counts of 3-gram overlaps.\n",
      "Therefore the BLEU score evaluates to 0, independently of\n",
      "how many N-gram overlaps of lower order it contains.\n",
      "Consider using lower n-gram order or use SmoothingFunction()\n",
      "  warnings.warn(_msg)\n",
      "C:\\Users\\ASUS\\AppData\\Local\\Programs\\Python\\Python310\\lib\\site-packages\\nltk\\translate\\bleu_score.py:552: UserWarning: \n",
      "The hypothesis contains 0 counts of 4-gram overlaps.\n",
      "Therefore the BLEU score evaluates to 0, independently of\n",
      "how many N-gram overlaps of lower order it contains.\n",
      "Consider using lower n-gram order or use SmoothingFunction()\n",
      "  warnings.warn(_msg)\n"
     ]
    }
   ],
   "source": [
    "from nltk.translate.bleu_score import corpus_bleu\n",
    "# validate with test data\n",
    "actual, predicted = list(), list()\n",
    "\n",
    "for key in tqdm(test):\n",
    "    # get actual caption\n",
    "    caption = mapping[key]\n",
    "    # predict the caption for image\n",
    "    y_pred = predict_caption(model, features[key], tokenizer, max_length) \n",
    "    # split into words\n",
    "    actual_captions = caption.split()\n",
    "    y_pred = y_pred.split()\n",
    "    # append to the list\n",
    "    actual.append(actual_captions)\n",
    "    predicted.append(y_pred)\n",
    "    \n",
    "# calcuate BLEU score\n",
    "print(\"BLEU-1: %f\" % corpus_bleu(actual, predicted, weights=(1.0, 0, 0, 0)))\n",
    "print(\"BLEU-2: %f\" % corpus_bleu(actual, predicted, weights=(0.5, 0.5, 0, 0)))"
   ]
  },
  {
   "cell_type": "code",
   "execution_count": null,
   "id": "d8f08f01",
   "metadata": {},
   "outputs": [],
   "source": []
  }
 ],
 "metadata": {
  "kernelspec": {
   "display_name": "Python 3 (ipykernel)",
   "language": "python",
   "name": "python3"
  },
  "language_info": {
   "codemirror_mode": {
    "name": "ipython",
    "version": 3
   },
   "file_extension": ".py",
   "mimetype": "text/x-python",
   "name": "python",
   "nbconvert_exporter": "python",
   "pygments_lexer": "ipython3",
   "version": "3.10.5"
  }
 },
 "nbformat": 4,
 "nbformat_minor": 5
}
